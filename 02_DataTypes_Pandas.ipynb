{
 "cells": [
  {
   "cell_type": "code",
   "execution_count": 1,
   "id": "0c2fe148-99cc-405a-9abd-246ee0887add",
   "metadata": {
    "slideshow": {
     "slide_type": "slide"
    },
    "tags": []
   },
   "outputs": [],
   "source": [
    "#Run the following code to print multiple outputs from a cell\n",
    "get_ipython().ast_node_interactivity = 'all'"
   ]
  },
  {
   "cell_type": "markdown",
   "id": "2dc77e95-22e7-4829-ba83-7a72271134e8",
   "metadata": {},
   "source": [
    "# Data Types\n",
    "\n",
    "## Numbers\n",
    "Previously, our examples used numeric data (although I didn't explicitly talk about it)."
   ]
  },
  {
   "cell_type": "code",
   "execution_count": 2,
   "id": "15e34862-3018-4b54-98ed-9f8df8026388",
   "metadata": {},
   "outputs": [
    {
     "data": {
      "text/plain": [
       "int"
      ]
     },
     "execution_count": 2,
     "metadata": {},
     "output_type": "execute_result"
    }
   ],
   "source": [
    "x = 5\n",
    "type(x)"
   ]
  },
  {
   "cell_type": "markdown",
   "id": "6b3025b2-e35b-42be-bc97-a9f8b5782acc",
   "metadata": {},
   "source": [
    "The data type, `int`, is for whole numbers and , `float`, is for numbers with decimals:"
   ]
  },
  {
   "cell_type": "code",
   "execution_count": 3,
   "id": "1fa6aebc-571d-440c-96c8-8052310e0f9e",
   "metadata": {},
   "outputs": [
    {
     "data": {
      "text/plain": [
       "int"
      ]
     },
     "execution_count": 3,
     "metadata": {},
     "output_type": "execute_result"
    },
    {
     "data": {
      "text/plain": [
       "float"
      ]
     },
     "execution_count": 3,
     "metadata": {},
     "output_type": "execute_result"
    }
   ],
   "source": [
    "x = 3\n",
    "type(x)\n",
    "\n",
    "y = 4.3\n",
    "type(y)"
   ]
  },
  {
   "cell_type": "markdown",
   "id": "a5dec7a0-76b5-410a-83dd-d7c13c194e46",
   "metadata": {},
   "source": [
    "Numeric data is data we could do math with."
   ]
  },
  {
   "cell_type": "code",
   "execution_count": 4,
   "id": "9886757e-f5ef-4ed8-b6ca-fbafd1f94f53",
   "metadata": {},
   "outputs": [
    {
     "data": {
      "text/plain": [
       "7.3"
      ]
     },
     "execution_count": 4,
     "metadata": {},
     "output_type": "execute_result"
    },
    {
     "data": {
      "text/plain": [
       "-1.2999999999999998"
      ]
     },
     "execution_count": 4,
     "metadata": {},
     "output_type": "execute_result"
    },
    {
     "data": {
      "text/plain": [
       "12.899999999999999"
      ]
     },
     "execution_count": 4,
     "metadata": {},
     "output_type": "execute_result"
    },
    {
     "data": {
      "text/plain": [
       "0.6976744186046512"
      ]
     },
     "execution_count": 4,
     "metadata": {},
     "output_type": "execute_result"
    }
   ],
   "source": [
    "x + y\n",
    "x - y\n",
    "x * y\n",
    "x / y"
   ]
  },
  {
   "cell_type": "markdown",
   "id": "89ae6959-6a9b-477f-9474-bff5a6a5c8a7",
   "metadata": {},
   "source": [
    "*Don't worry about the unexpected number of decimals for -1.3 and 12.9. It turns out that python has a hard time representing floats in binary code, so it makes an approximation...this won't affect your results in any meaningful way.*"
   ]
  },
  {
   "cell_type": "markdown",
   "id": "df09f91c-1218-4375-b3ce-52b576a53e17",
   "metadata": {},
   "source": [
    "Not all data with the label \"number\" is a number:\n",
    "* Is a phone number or social security number a number?\n",
    "* ZIP codes only use numbers - but are they numbers?\n",
    "**Key Question: Would you ever do math with the values?**\n",
    "\n",
    "Why does this matter?"
   ]
  },
  {
   "cell_type": "code",
   "execution_count": 5,
   "id": "46785030-00d3-4dbc-a9d4-d6caa03e43bc",
   "metadata": {},
   "outputs": [
    {
     "ename": "SyntaxError",
     "evalue": "leading zeros in decimal integer literals are not permitted; use an 0o prefix for octal integers (3314146026.py, line 1)",
     "output_type": "error",
     "traceback": [
      "\u001b[0;36m  Cell \u001b[0;32mIn[5], line 1\u001b[0;36m\u001b[0m\n\u001b[0;31m    zip = 02467 #with a leading zero\u001b[0m\n\u001b[0m          ^\u001b[0m\n\u001b[0;31mSyntaxError\u001b[0m\u001b[0;31m:\u001b[0m leading zeros in decimal integer literals are not permitted; use an 0o prefix for octal integers\n"
     ]
    }
   ],
   "source": [
    "zip = 02467 #with a leading zero"
   ]
  },
  {
   "cell_type": "markdown",
   "id": "ab4afb7b-8b8b-4790-bdcf-b6e5931c4768",
   "metadata": {},
   "source": [
    "## Strings\n",
    "\n",
    "Data can also contain characters other than numbers. This \"string\" or \"character\" data must be in single or double quotes."
   ]
  },
  {
   "cell_type": "code",
   "execution_count": 6,
   "id": "1565ff5c-bb78-4c68-b25d-63b288d3bc52",
   "metadata": {},
   "outputs": [
    {
     "data": {
      "text/plain": [
       "str"
      ]
     },
     "execution_count": 6,
     "metadata": {},
     "output_type": "execute_result"
    }
   ],
   "source": [
    "x = \"test\" #assigns a string to the variable x\n",
    "x = 'test' #also assigns a string to the variable x\n",
    "type(x)"
   ]
  },
  {
   "cell_type": "markdown",
   "id": "61c7381a-891b-4e60-9cdb-f5b450f592e2",
   "metadata": {},
   "source": [
    "But without quotes, it's not a string!"
   ]
  },
  {
   "cell_type": "code",
   "execution_count": 7,
   "id": "1cd43f1c-ff5d-47f5-971e-fa307693e1af",
   "metadata": {},
   "outputs": [
    {
     "ename": "NameError",
     "evalue": "name 'test' is not defined",
     "output_type": "error",
     "traceback": [
      "\u001b[0;31m---------------------------------------------------------------------------\u001b[0m",
      "\u001b[0;31mNameError\u001b[0m                                 Traceback (most recent call last)",
      "Cell \u001b[0;32mIn[7], line 1\u001b[0m\n\u001b[0;32m----> 1\u001b[0m x \u001b[38;5;241m=\u001b[39m \u001b[43mtest\u001b[49m\n",
      "\u001b[0;31mNameError\u001b[0m: name 'test' is not defined"
     ]
    }
   ],
   "source": [
    "x = test"
   ]
  },
  {
   "cell_type": "markdown",
   "id": "6e2baac3-8a89-4ce7-bd83-8eed8f5c127f",
   "metadata": {},
   "source": [
    "Python reads this and looks for a variable called `test`, which we never created.\n",
    "\n",
    "You can't do math (or much analytics in general) with strings directly."
   ]
  },
  {
   "cell_type": "code",
   "execution_count": 8,
   "id": "a451b5b2-513e-46a5-a730-929408bbc772",
   "metadata": {},
   "outputs": [
    {
     "data": {
      "text/plain": [
       "'testtest'"
      ]
     },
     "execution_count": 8,
     "metadata": {},
     "output_type": "execute_result"
    },
    {
     "data": {
      "text/plain": [
       "'33'"
      ]
     },
     "execution_count": 8,
     "metadata": {},
     "output_type": "execute_result"
    }
   ],
   "source": [
    "x = \"test\"\n",
    "x * 2\n",
    "\n",
    "y = \"3\"\n",
    "y * 2   #the answer is probably not what you think"
   ]
  },
  {
   "cell_type": "markdown",
   "id": "969ccea6-016f-4b80-9c0b-68366e05cf35",
   "metadata": {},
   "source": [
    "Strings need a starting \" or ' and a matching ending \" or '. This incorrect command starts a string with the \" but never finishes it."
   ]
  },
  {
   "cell_type": "code",
   "execution_count": 9,
   "id": "3e6dcb0d-980e-4b70-aed1-8827b0af53e0",
   "metadata": {},
   "outputs": [
    {
     "ename": "SyntaxError",
     "evalue": "unterminated string literal (detected at line 1) (2535819004.py, line 1)",
     "output_type": "error",
     "traceback": [
      "\u001b[0;36m  Cell \u001b[0;32mIn[9], line 1\u001b[0;36m\u001b[0m\n\u001b[0;31m    x = \"test\u001b[0m\n\u001b[0m        ^\u001b[0m\n\u001b[0;31mSyntaxError\u001b[0m\u001b[0;31m:\u001b[0m unterminated string literal (detected at line 1)\n"
     ]
    }
   ],
   "source": [
    "x = \"test"
   ]
  },
  {
   "cell_type": "markdown",
   "id": "34f3b027-51a8-4198-a8af-a228541bc2f4",
   "metadata": {},
   "source": [
    "## Logical (Boolean)\n",
    "\n",
    "Logical (Boolean) values are either `True` or `False`."
   ]
  },
  {
   "cell_type": "code",
   "execution_count": 10,
   "id": "4351b900-1169-4103-881a-ede3376f2e4c",
   "metadata": {},
   "outputs": [
    {
     "data": {
      "text/plain": [
       "bool"
      ]
     },
     "execution_count": 10,
     "metadata": {},
     "output_type": "execute_result"
    }
   ],
   "source": [
    "x = True\n",
    "type(x)"
   ]
  },
  {
   "cell_type": "markdown",
   "id": "9d23c39d-d561-4cbf-b63e-83271d01d15d",
   "metadata": {},
   "source": [
    "The value can explicitly be `True` or `False`. But they can also be the result of a logical expression."
   ]
  },
  {
   "cell_type": "code",
   "execution_count": 11,
   "id": "d525d564-5383-4c37-8724-f02f0883c9a5",
   "metadata": {},
   "outputs": [],
   "source": [
    "x = 3   # Here, we're setting the value of x to 3"
   ]
  },
  {
   "cell_type": "code",
   "execution_count": 12,
   "id": "b6d413cd-68dc-47a6-acc5-12c31ae14bdf",
   "metadata": {},
   "outputs": [
    {
     "data": {
      "text/plain": [
       "False"
      ]
     },
     "execution_count": 12,
     "metadata": {},
     "output_type": "execute_result"
    }
   ],
   "source": [
    "x == 2  # Here, we're checking to see if x is equal to 2\n",
    "# Note: the test for equality, ==, is not the same as the assignment, =."
   ]
  },
  {
   "cell_type": "markdown",
   "id": "2be00eb8-efb4-4bea-83b4-8c105e3faf2a",
   "metadata": {},
   "source": [
    "### Logical Operations\n",
    "\n",
    "**Comparison operators** compare two values:\n",
    "* Is equal to: `==` (e.g., `x == y`)\n",
    "* Not equal to: `!=` (e.g., `x != y`)\n",
    "* Greater than: `>` (e.g., `x > y`)\n",
    "* Less than: `<` (e.g., `x < y`)\n",
    "* Greater than or equal: `>=` (e.g., `x >= y`)\n",
    "* Less than or equal: `<=` (e.g., `x <= y`)\n",
    "\n",
    "**Logical operators** combine conditional statements:\n",
    "* `and`: Returns `True` if both statements are true (e.g., `x<5 and x<10`)\n",
    "* `or`: Returns `True` if one of the statement is true (e.g., `x<5 or x<4`)\n",
    "* `not`: Reverse the result, returns `False` if the result is true (e.g., `not(x<5)`)"
   ]
  },
  {
   "cell_type": "markdown",
   "id": "c28f1ac1-266b-467d-a30d-1e19982ea765",
   "metadata": {},
   "source": [
    "## Dates\n",
    "\n",
    "Data analysis frequently uses dates. And dates can be complicated.\n",
    "\n",
    "What does 4/1/2021 mean? Is this 4 January 2021 or 1 April 2021?\n",
    "\n",
    "The `datetime` and `dateutil` modules are good for interpreting both dates and times."
   ]
  },
  {
   "cell_type": "code",
   "execution_count": 13,
   "id": "62bb6ced-f229-4253-a8cb-12d37767c5d3",
   "metadata": {},
   "outputs": [
    {
     "data": {
      "text/plain": [
       "datetime.date(2021, 4, 1)"
      ]
     },
     "execution_count": 13,
     "metadata": {},
     "output_type": "execute_result"
    }
   ],
   "source": [
    "import datetime\n",
    "x = datetime.date(2021, 4, 1)\n",
    "x"
   ]
  },
  {
   "cell_type": "markdown",
   "id": "49bbaeb3-cd81-4796-93a0-1fb7b060a6a2",
   "metadata": {},
   "source": [
    "We still don't know whether 4 is the month or the day. Use the help function to see if you can figure it out:"
   ]
  },
  {
   "cell_type": "code",
   "execution_count": null,
   "id": "266534ef-df67-4dd0-80a5-6f3aec553eaf",
   "metadata": {},
   "outputs": [],
   "source": []
  },
  {
   "cell_type": "markdown",
   "id": "e4a07170-91a4-4d1f-9e92-755358fdab0f",
   "metadata": {},
   "source": [
    "You can also print the variable to see a more typical date format. And you can view the `.month` or `.day` attributes:"
   ]
  },
  {
   "cell_type": "code",
   "execution_count": 14,
   "id": "663f8c5a-008e-41c4-9825-9cb74860530f",
   "metadata": {},
   "outputs": [
    {
     "name": "stdout",
     "output_type": "stream",
     "text": [
      "2021-04-01\n"
     ]
    }
   ],
   "source": [
    "print(x)"
   ]
  },
  {
   "cell_type": "code",
   "execution_count": null,
   "id": "a819b034-d66d-49a9-b137-b9b9ff80e675",
   "metadata": {},
   "outputs": [],
   "source": [
    "x.month\n",
    "x.day"
   ]
  },
  {
   "cell_type": "markdown",
   "id": "7a59f37d-0cdc-4f6a-bd94-385cb733405d",
   "metadata": {},
   "source": [
    "If you want to see which day of the week the date fell on, you can use the `.weekday()` method. (What's a method? It's just a function that only works on certain types of objects and it goes *after* the variable name instead of before it)"
   ]
  },
  {
   "cell_type": "code",
   "execution_count": null,
   "id": "a0e62b78-89ab-43cb-9e4a-ceb3ae8206c4",
   "metadata": {},
   "outputs": [],
   "source": [
    "x.weekday() #Monday is 0"
   ]
  },
  {
   "cell_type": "markdown",
   "id": "6ab72994-1e02-48c9-ba83-37e6bedf9257",
   "metadata": {},
   "source": [
    "### Parsing date information\n",
    "\n",
    "We can use functions to create dates from strings:"
   ]
  },
  {
   "cell_type": "code",
   "execution_count": null,
   "id": "0cc9c591-6c7a-4942-9f12-5f9c53d24c00",
   "metadata": {},
   "outputs": [],
   "source": [
    "from dateutil import parser\n",
    "x = parser.parse(\"4/1/2021\")\n",
    "x.month"
   ]
  },
  {
   "cell_type": "markdown",
   "id": "969af3e5-1d19-4641-b3e9-d3a736239c28",
   "metadata": {},
   "source": [
    "Notice the default with `.parse()` is to put the month before the day. If you want to switch this, you can add the `dayfirst = True` parameter:"
   ]
  },
  {
   "cell_type": "code",
   "execution_count": null,
   "id": "bb9e3d1c-e81d-4696-b09c-55e56cb5a867",
   "metadata": {},
   "outputs": [],
   "source": [
    "x = parser.parse(\"4/1/2021\", dayfirst = True)\n",
    "x.month"
   ]
  },
  {
   "cell_type": "markdown",
   "id": "a971bc18-00c2-47b9-ae64-992ebdb8e35a",
   "metadata": {},
   "source": [
    "### Practice with dates: For February 20, 1991\n",
    "\n",
    "* Create a variable called `python` with the date: February 20, 1991\n",
    "     - FYI, this is the date on which python was first released\n",
    "* Extract the year\n",
    "* Extract the month\n",
    "* Find the day of the week\n",
    "* Find the number of days between February 20, 1991 and December 31, 1999"
   ]
  },
  {
   "cell_type": "code",
   "execution_count": null,
   "id": "2b9b6ee7-923c-4819-85db-ec5adad45a08",
   "metadata": {},
   "outputs": [],
   "source": []
  },
  {
   "attachments": {
    "375aed04-6bd1-45c8-89aa-d93671337f22.png": {
     "image/png": "[encoded data removed]"
    }
   },
   "cell_type": "markdown",
   "id": "5b021809-e432-45d5-8557-2f18ef29b173",
   "metadata": {},
   "source": [
    "# Key analytics module: `pandas`\n",
    "\n",
    "Analytics requires data. How do we get data into python? Python will import data from many, many sources:\n",
    "* Database\n",
    "* Websites\n",
    "* Files (of many formats)\n",
    "\n",
    "`pandas` is a fast, powerful, flexible and easy to use open source data analysis and manipulation tool. \n",
    "\n",
    "![image.png](attachment:375aed04-6bd1-45c8-89aa-d93671337f22.png)"
   ]
  },
  {
   "attachments": {
    "e9c32afb-2a91-4322-b036-a1247edc72dc.png": {
     "image/png": "[encoded data removed]"
    }
   },
   "cell_type": "markdown",
   "id": "dcf41373-f370-45d7-a904-583f01c8efdc",
   "metadata": {},
   "source": [
    "`pandas` integrates with many ﬁle formats or data sources (csv, excel, sql, json, parquet,…).\n",
    "\n",
    "![image.png](attachment:e9c32afb-2a91-4322-b036-a1247edc72dc.png)\n",
    "\n",
    "Functions with the prefix `read_*` import data. Similarly, the `to_*` functions store data."
   ]
  },
  {
   "cell_type": "markdown",
   "id": "7fe9c1b9-c74c-4771-b122-bf4c8cf75ae9",
   "metadata": {},
   "source": [
    "## Importing data\n",
    "\n",
    "Today, we'll be working with the file, \"02_Sample.csv\", which is in the DA3 folder on Jupyter Hub. Run the next code block to import pandas and read in the file:"
   ]
  },
  {
   "cell_type": "code",
   "execution_count": null,
   "id": "6e67cae6-a9d0-4314-bf86-10b96142fba4",
   "metadata": {},
   "outputs": [],
   "source": [
    "import pandas\n",
    "df = pandas.read_csv(\"02_Sample.csv\")"
   ]
  },
  {
   "cell_type": "markdown",
   "id": "7b8608b5-bcda-4ed0-92af-3975348dd2eb",
   "metadata": {},
   "source": [
    "*If you got an error message, check that you've spelled the file name correctly and remember it is case sensitive!*"
   ]
  },
  {
   "cell_type": "markdown",
   "id": "17340de7-7bbd-44a6-b0a9-febf7ff3cb7b",
   "metadata": {},
   "source": [
    "## Exploring the Data\n",
    "\n",
    "Notice that we saved the DataFrame to a variable...this allows us to work with it. And when you print the variable name, it gives you the first 5 and last 5 rows of data, along with information about how many rows and columns there are."
   ]
  },
  {
   "cell_type": "code",
   "execution_count": null,
   "id": "56aeb064-794d-4765-9396-ec9028c44217",
   "metadata": {},
   "outputs": [],
   "source": [
    "df"
   ]
  },
  {
   "cell_type": "markdown",
   "id": "0b5240c0-2609-4575-8bbf-8f4cb6e19a0a",
   "metadata": {},
   "source": [
    "I find that printing the variable name is the quickest way to get basic information about the table. But you can view the `.shape` attribute or use the `.head()` and `.tail()` methods to get this information"
   ]
  },
  {
   "cell_type": "code",
   "execution_count": null,
   "id": "652517e5-740e-4b9e-bf01-2b866fae064b",
   "metadata": {},
   "outputs": [],
   "source": [
    "df.shape"
   ]
  },
  {
   "cell_type": "code",
   "execution_count": null,
   "id": "d889dd77-b1a2-444d-ba09-b11fbfb09f64",
   "metadata": {},
   "outputs": [],
   "source": [
    "df.head()"
   ]
  },
  {
   "cell_type": "code",
   "execution_count": null,
   "id": "7f390d73-173e-41eb-8b96-43ad0ed01f31",
   "metadata": {},
   "outputs": [],
   "source": [
    "df.tail()"
   ]
  },
  {
   "cell_type": "markdown",
   "id": "d049064d-b090-44d5-93d9-e6fcd1255553",
   "metadata": {},
   "source": [
    "You can also view the `.dtypes` attribute to see the data types for each column:"
   ]
  },
  {
   "cell_type": "code",
   "execution_count": null,
   "id": "5ce1357d-6ed7-484f-9e26-19c3d6706d78",
   "metadata": {},
   "outputs": [],
   "source": [
    "df.dtypes"
   ]
  },
  {
   "cell_type": "markdown",
   "id": "a4dd7512-bfbe-4094-b681-efcce7710e35",
   "metadata": {},
   "source": [
    "The `.describe()` method provides summary statistics for the numeric columns:"
   ]
  },
  {
   "cell_type": "code",
   "execution_count": null,
   "id": "2518c345-c6c1-4ada-8c8e-c02521c592c1",
   "metadata": {},
   "outputs": [],
   "source": [
    "df.describe()"
   ]
  },
  {
   "cell_type": "markdown",
   "id": "522a064a-539d-4f29-8793-008e8437aa67",
   "metadata": {},
   "source": [
    "We'll talk about ways to profile non-numeric data next class"
   ]
  },
  {
   "cell_type": "markdown",
   "id": "dc40428b-9df7-44e6-89c5-f92ac14c5044",
   "metadata": {},
   "source": [
    "## Practice\n",
    "\n",
    "Now, use the `read_excel()` function from `pandas` to read in the file \"02_Sample.xlsx\" and explore the data to see if there are any differences between the .csv and .xlsx versions of the sample.\n",
    "\n",
    "*Hint: when reading in the new file, I'd recommend assigning it to a different variable name so that you don't write over the `df` variable we created above.*"
   ]
  },
  {
   "cell_type": "code",
   "execution_count": null,
   "id": "0a367076-ec66-486f-8716-821f063e19e0",
   "metadata": {},
   "outputs": [],
   "source": []
  },
  {
   "cell_type": "markdown",
   "id": "6934112f-acb9-46df-9bdb-995b0642691d",
   "metadata": {},
   "source": [
    "## Coda: File Formats\n",
    "\n",
    "We've only scratched the surface, but these are the most common file formats. Python also imports from many other files:\n",
    "* Other statistics packages such as SPSS, SAS, etc.\n",
    "* Other delimiters besides commas, such as tab, etc.\n",
    "* Complex structures such as JSON, XML, etc.\n",
    "\n",
    "And if you have a file with a particular format not mentioned, you're likely not the first person to need it...search online!"
   ]
  }
 ],
 "metadata": {
  "kernelspec": {
   "display_name": "Python 3 (ipykernel)",
   "language": "python",
   "name": "python3"
  },
  "language_info": {
   "codemirror_mode": {
    "name": "ipython",
    "version": 3
   },
   "file_extension": ".py",
   "mimetype": "text/x-python",
   "name": "python",
   "nbconvert_exporter": "python",
   "pygments_lexer": "ipython3",
   "version": "3.12.3"
  }
 },
 "nbformat": 4,
 "nbformat_minor": 5
}
