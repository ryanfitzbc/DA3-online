{
 "cells": [
  {
   "cell_type": "code",
   "id": "c838642f-a7b4-40ce-a87b-4e246ba9ec6d",
   "metadata": {
    "slideshow": {
     "slide_type": "slide"
    },
    "ExecuteTime": {
     "end_time": "2025-02-17T15:11:54.004660Z",
     "start_time": "2025-02-17T15:11:54.001915Z"
    }
   },
   "source": [
    "#Run the following code to print multiple outputs from a cell\n",
    "get_ipython().ast_node_interactivity = 'all'\n",
    "#(don't worry about what this code means...it just helps for display purposes)"
   ],
   "outputs": [],
   "execution_count": 6
  },
  {
   "cell_type": "markdown",
   "id": "44c16506-4d05-4591-98ab-b21b4799314f",
   "metadata": {
    "slideshow": {
     "slide_type": "slide"
    },
    "tags": []
   },
   "source": [
    "# Getting to know Jupyter notebooks"
   ]
  },
  {
   "cell_type": "markdown",
   "id": "29db4ae8-0ab4-44c3-9607-7bdeeb3ab191",
   "metadata": {
    "slideshow": {
     "slide_type": "slide"
    },
    "tags": []
   },
   "source": [
    "Jupyter Notebooks help you do data analysis that can be read and replicated by others.\n",
    "\n",
    "There are different types of cells:"
   ]
  },
  {
   "cell_type": "code",
   "execution_count": 2,
   "id": "60d3e84b-31a4-45db-8be0-f8d29b75761c",
   "metadata": {},
   "outputs": [],
   "source": [
    "# This is a code cell. You would type your code here.\n",
    "# Btw, any text in a code cell preceded by a hashtag will be ignored by Python."
   ]
  },
  {
   "cell_type": "markdown",
   "id": "83630756-6bb2-4321-bfb5-45e5dd1afb8f",
   "metadata": {
    "slideshow": {
     "slide_type": "slide"
    },
    "tags": []
   },
   "source": [
    "# this is a markdown cell.  This line is a header.\n",
    "## This is a sub header\n",
    "\n",
    "This is just regular text in a markdown cell."
   ]
  },
  {
   "cell_type": "markdown",
   "id": "fc4e2291-9b2b-4600-bd10-446230fbb717",
   "metadata": {},
   "source": [
    "Most of what you'll be doing is in the code cells.\n",
    "\n",
    "To add a cell, you can click the + symbol above (in this pane, not the files pane...that adds a new file) -- this inserts a new cell below the current cell. \n",
    "\n",
    "You can also use the keyboard shortcut \"a\" to insert a cell above the current cell and \"b\" to insert below. To do this, click to the left of the cell where you want to insert and a blue bar will appear. Don't click the blue bar itself unless you want to collapse the cell. Instead, click the white space directly to the left of the cell and type \"a\" or \"b\" and a new cell will appear. Try inserting a code cell above this block of text."
   ]
  },
  {
   "cell_type": "markdown",
   "id": "45cf579d-d7d7-47a9-be18-3a6b3f093700",
   "metadata": {},
   "source": [
    "## Storing data with variables ##\n",
    "\n",
    "Whenever you want to store a value for later use in your program, you need to assign it to a variable."
   ]
  },
  {
   "cell_type": "code",
   "id": "7b2b2783-7b59-4580-aa60-6563c58e4f66",
   "metadata": {
    "ExecuteTime": {
     "end_time": "2025-02-17T15:11:46.618683Z",
     "start_time": "2025-02-17T15:11:46.615689Z"
    }
   },
   "source": [
    "pigs = 36\n",
    "cows = 5\n",
    "\n",
    "animals = pigs + cows"
   ],
   "outputs": [],
   "execution_count": 2
  },
  {
   "cell_type": "markdown",
   "id": "56b45d95-9b80-4b5e-958b-68fbcd26f20d",
   "metadata": {},
   "source": [
    "To view the current value of an existing variable, you can simply type the name of the variable"
   ]
  },
  {
   "cell_type": "code",
   "id": "7a47df36-f938-4905-9627-e12e130cf482",
   "metadata": {
    "ExecuteTime": {
     "end_time": "2025-02-17T15:11:47.752679Z",
     "start_time": "2025-02-17T15:11:47.749092Z"
    }
   },
   "source": [
    "animals"
   ],
   "outputs": [
    {
     "data": {
      "text/plain": [
       "41"
      ]
     },
     "execution_count": 3,
     "metadata": {},
     "output_type": "execute_result"
    }
   ],
   "execution_count": 3
  },
  {
   "cell_type": "markdown",
   "id": "726013d3-2a2f-4c58-9955-c33b275c5a81",
   "metadata": {
    "slideshow": {
     "slide_type": "slide"
    },
    "tags": []
   },
   "source": [
    "## Assignment statements\n",
    "This is the first bit of coding you'll learn in this class -- **the \"assignment statement.\"** It takes the following form:\n",
    "\n",
    "`variable_name = [value of variable]`"
   ]
  },
  {
   "cell_type": "markdown",
   "id": "feaa4fb8-c723-47e7-a234-42adde6dfc9d",
   "metadata": {},
   "source": [
    "When Python sees an assignment statement, it first evaluates what's on the right side of the \"=\" sign and then saves it to the variable name listed on the left side. Before running the next code block, think about what the final value of x is."
   ]
  },
  {
   "cell_type": "code",
   "id": "4278f4aa-be71-44f2-88f4-444fe8c42701",
   "metadata": {
    "ExecuteTime": {
     "end_time": "2025-02-17T15:11:49.376007Z",
     "start_time": "2025-02-17T15:11:49.373085Z"
    }
   },
   "source": [
    "x = 5\n",
    "x = x + 1\n",
    "x"
   ],
   "outputs": [
    {
     "data": {
      "text/plain": [
       "6"
      ]
     },
     "execution_count": 4,
     "metadata": {},
     "output_type": "execute_result"
    }
   ],
   "execution_count": 4
  },
  {
   "cell_type": "markdown",
   "id": "badd13a8-ce54-4838-98c0-2a7db5cb0177",
   "metadata": {},
   "source": [
    "Variable names can be any sequence of letters, numbers, and some special characters such as underscore ( _ ) but must start with a letter or underscore ( _ ).\n",
    "\n",
    "Case matters -- x isn't the same as X. Hence if you try to retrieve the value of X instead, you will get an error:"
   ]
  },
  {
   "cell_type": "code",
   "id": "b41192db-5c0f-4cae-9a38-32d8a57d9858",
   "metadata": {
    "ExecuteTime": {
     "end_time": "2025-02-17T15:11:49.969412Z",
     "start_time": "2025-02-17T15:11:49.959117Z"
    }
   },
   "source": [
    "X"
   ],
   "outputs": [
    {
     "ename": "NameError",
     "evalue": "name 'X' is not defined",
     "output_type": "error",
     "traceback": [
      "\u001B[0;31m---------------------------------------------------------------------------\u001B[0m",
      "\u001B[0;31mNameError\u001B[0m                                 Traceback (most recent call last)",
      "Cell \u001B[0;32mIn[5], line 1\u001B[0m\n\u001B[0;32m----> 1\u001B[0m X\n",
      "\u001B[0;31mNameError\u001B[0m: name 'X' is not defined"
     ]
    }
   ],
   "execution_count": 5
  },
  {
   "cell_type": "markdown",
   "id": "4298c65c-32b9-46ca-a3f2-95786e3b83d7",
   "metadata": {},
   "source": [
    "Python is case-sensitive for everything (variable names, functions, etc.), so the lowercase x is different from the uppercase X."
   ]
  },
  {
   "cell_type": "markdown",
   "id": "b82bf358-4bfc-4c0e-b969-ee6d843b2604",
   "metadata": {
    "tags": []
   },
   "source": [
    "## Functions\n",
    "Obviously, we can (and will) do a lot more than simple math. For example, we will often use functions. \n",
    "\n",
    "To illustrate, let's use rounding. Remember that π is 3 when rounded to 0 decimal places and 3.142 when rounded to 3 decimal places..\n",
    "\n",
    "In python, the function to round is, cleverly, `round(x)`, where x is the value that you want to round. You try it...in the next code cell, round π to 0 decimal places and assign the result to a variable named z1...use 3.14159 as your value for π:"
   ]
  },
  {
   "cell_type": "code",
   "execution_count": 8,
   "id": "c535ec41-7312-4845-ad65-9f3ec3614836",
   "metadata": {},
   "outputs": [
    {
     "data": {
      "text/plain": [
       "3"
      ]
     },
     "execution_count": 8,
     "metadata": {},
     "output_type": "execute_result"
    }
   ],
   "source": [
    "z1 = round(3.14159)\n",
    "z1"
   ]
  },
  {
   "cell_type": "markdown",
   "id": "18b2007b-98da-4976-96ef-dd09010d4a9a",
   "metadata": {},
   "source": [
    "Now, use the `round()` function to round 7.1, 23.156, and 192.9834 to whole numbers:"
   ]
  },
  {
   "cell_type": "code",
   "execution_count": 9,
   "id": "2ace9fde-f287-4075-9148-31eef5221820",
   "metadata": {},
   "outputs": [
    {
     "data": {
      "text/plain": [
       "7"
      ]
     },
     "execution_count": 9,
     "metadata": {},
     "output_type": "execute_result"
    },
    {
     "data": {
      "text/plain": [
       "23"
      ]
     },
     "execution_count": 9,
     "metadata": {},
     "output_type": "execute_result"
    },
    {
     "data": {
      "text/plain": [
       "193"
      ]
     },
     "execution_count": 9,
     "metadata": {},
     "output_type": "execute_result"
    }
   ],
   "source": [
    "round(7.1)\n",
    "round(23.156)\n",
    "round(192.9834)"
   ]
  },
  {
   "cell_type": "markdown",
   "id": "30dc8a09-8a1f-4059-8f36-e65ad1431196",
   "metadata": {},
   "source": [
    "How do you figure out what a function like `round()` does?"
   ]
  },
  {
   "cell_type": "code",
   "execution_count": 10,
   "id": "b757219c-3a31-4939-a7ec-935929682481",
   "metadata": {},
   "outputs": [
    {
     "name": "stdout",
     "output_type": "stream",
     "text": [
      "Help on built-in function round in module builtins:\n",
      "\n",
      "round(number, ndigits=None)\n",
      "    Round a number to a given precision in decimal digits.\n",
      "    \n",
      "    The return value is an integer if ndigits is omitted or None.  Otherwise\n",
      "    the return value has the same type as the number.  ndigits may be negative.\n",
      "\n"
     ]
    }
   ],
   "source": [
    "help(round)"
   ]
  },
  {
   "cell_type": "markdown",
   "id": "4845f0bc-6a05-48a3-a396-28d225406681",
   "metadata": {},
   "source": [
    "You can also use the Jupyter Help menu up above."
   ]
  },
  {
   "cell_type": "markdown",
   "id": "b1982dff-9b2c-403a-b10c-75cf797d0260",
   "metadata": {},
   "source": [
    "## Function Parameters\n",
    "In this example, `round()` is the function and 3.14159 is the value of the parameter, `number`, to the function. You can specify parameters by position or by name:"
   ]
  },
  {
   "cell_type": "code",
   "id": "51ad4de9-e3d9-4546-ab27-fb59afeecf5f",
   "metadata": {
    "ExecuteTime": {
     "end_time": "2025-02-17T15:12:01.373654Z",
     "start_time": "2025-02-17T15:12:01.369105Z"
    }
   },
   "source": [
    "round(3.14159)\n",
    "round(number = 3.14159)"
   ],
   "outputs": [
    {
     "data": {
      "text/plain": [
       "3"
      ]
     },
     "execution_count": 7,
     "metadata": {},
     "output_type": "execute_result"
    },
    {
     "data": {
      "text/plain": [
       "3"
      ]
     },
     "execution_count": 7,
     "metadata": {},
     "output_type": "execute_result"
    }
   ],
   "execution_count": 7
  },
  {
   "cell_type": "markdown",
   "id": "3720cf53-fbf8-4b54-91b0-2bc4b0e80084",
   "metadata": {},
   "source": [
    "The first example specified the parameter by position -- it was the first parameter.\n",
    "\n",
    "Specifying parameters becomes more complicated when there are more of them. Expanding this example, `round()` actually has more than one parameter. One parameter is for he number that you want to round; the other is for the number of decimal places."
   ]
  },
  {
   "cell_type": "code",
   "execution_count": 12,
   "id": "d271dd55-ca34-4652-ad78-46c820358aa4",
   "metadata": {},
   "outputs": [
    {
     "data": {
      "text/plain": [
       "3.0"
      ]
     },
     "execution_count": 12,
     "metadata": {},
     "output_type": "execute_result"
    },
    {
     "data": {
      "text/plain": [
       "3.1"
      ]
     },
     "execution_count": 12,
     "metadata": {},
     "output_type": "execute_result"
    },
    {
     "data": {
      "text/plain": [
       "3.14"
      ]
     },
     "execution_count": 12,
     "metadata": {},
     "output_type": "execute_result"
    },
    {
     "data": {
      "text/plain": [
       "3.14"
      ]
     },
     "execution_count": 12,
     "metadata": {},
     "output_type": "execute_result"
    },
    {
     "data": {
      "text/plain": [
       "3.142"
      ]
     },
     "execution_count": 12,
     "metadata": {},
     "output_type": "execute_result"
    }
   ],
   "source": [
    "round(3.14159, 0)\n",
    "round(3.14159, 1)\n",
    "round(3.14159, 2)\n",
    "round(number = 3.14159, ndigits = 2)\n",
    "round(ndigits = 3, number = 3.14159) \n",
    "# notice that position doesn't matter when you specify the parameter names"
   ]
  },
  {
   "cell_type": "markdown",
   "id": "22c5744b-e899-4b99-83a6-e3a502568083",
   "metadata": {},
   "source": [
    "## Extending Python\n",
    "Let's use Python to find the square root of a number. Remember that 9 x 9 = 81 so the square root of 81 is 9. \n",
    "\n",
    "The function for square root in Python is `sqrt()`. Try finding the square root of 81 in the next code cell:"
   ]
  },
  {
   "cell_type": "code",
   "id": "4de65cff-350a-4297-ad69-52d8026176cd",
   "metadata": {
    "ExecuteTime": {
     "end_time": "2025-02-17T15:11:37.920321Z",
     "start_time": "2025-02-17T15:11:37.763370Z"
    }
   },
   "source": [
    "sqrt(81)"
   ],
   "outputs": [
    {
     "ename": "NameError",
     "evalue": "name 'sqrt' is not defined",
     "output_type": "error",
     "traceback": [
      "\u001B[0;31m---------------------------------------------------------------------------\u001B[0m",
      "\u001B[0;31mNameError\u001B[0m                                 Traceback (most recent call last)",
      "Cell \u001B[0;32mIn[1], line 1\u001B[0m\n\u001B[0;32m----> 1\u001B[0m sqrt(\u001B[38;5;241m81\u001B[39m)\n",
      "\u001B[0;31mNameError\u001B[0m: name 'sqrt' is not defined"
     ]
    }
   ],
   "execution_count": 1
  },
  {
   "cell_type": "markdown",
   "id": "81a9f738-20e4-4bf3-8663-f885e4a5e5c0",
   "metadata": {},
   "source": [
    "You should have gotten an error. Why? The `sqrt()` function is not automatically loaded; it is in the `math` module. Instead, you'll need to `import` that module first (similar to loading package libraries in R):"
   ]
  },
  {
   "cell_type": "code",
   "id": "9bf6f7fa-0ce7-4c64-8149-7df59ec44364",
   "metadata": {
    "ExecuteTime": {
     "end_time": "2025-02-17T15:12:06.319072Z",
     "start_time": "2025-02-17T15:12:06.315811Z"
    }
   },
   "source": [
    "import math\n",
    "math.sqrt(81)"
   ],
   "outputs": [
    {
     "data": {
      "text/plain": [
       "9.0"
      ]
     },
     "execution_count": 8,
     "metadata": {},
     "output_type": "execute_result"
    }
   ],
   "execution_count": 8
  },
  {
   "cell_type": "markdown",
   "id": "2cea6f7e-e3a7-4c33-bf07-9da5bde21a57",
   "metadata": {},
   "source": [
    "Let's try another function, this time from the `scipy` module. \n",
    "\n",
    "From a normal distribution with a mean of 0 and a standard deviation of 1, what is the probability that a random value will be less than -1 (using the `cdf()` function from the `scipy` module). The function is located in a `stats` submodule, so the import statement looks a bit different:"
   ]
  },
  {
   "cell_type": "code",
   "id": "08a7a8ce-d198-4f67-9051-cb825c7675cc",
   "metadata": {
    "ExecuteTime": {
     "end_time": "2025-02-17T15:12:08.559507Z",
     "start_time": "2025-02-17T15:12:08.221257Z"
    }
   },
   "source": [
    "from scipy.stats import norm\n",
    "norm.cdf(-1)"
   ],
   "outputs": [
    {
     "data": {
      "text/plain": [
       "0.15865525393145707"
      ]
     },
     "execution_count": 9,
     "metadata": {},
     "output_type": "execute_result"
    }
   ],
   "execution_count": 9
  },
  {
   "cell_type": "markdown",
   "id": "4dae376d-350e-4ae6-92b7-84f8511812b0",
   "metadata": {},
   "source": [
    "Great, but what if the mean wasn't 0 or the standard deviation wasn't 1? Use `help` to see what the function parameters for `cdf()` are and figure out the probability that a random value will be less than -1, given a normal distribution where the mean is 0 and the standard deviation is 2:"
   ]
  },
  {
   "cell_type": "code",
   "execution_count": 16,
   "id": "5ec3294c-c604-4a89-8a25-93e3d32d3dca",
   "metadata": {},
   "outputs": [
    {
     "data": {
      "text/plain": [
       "0.3085375387259869"
      ]
     },
     "execution_count": 16,
     "metadata": {},
     "output_type": "execute_result"
    },
    {
     "data": {
      "text/plain": [
       "0.3085375387259869"
      ]
     },
     "execution_count": 16,
     "metadata": {},
     "output_type": "execute_result"
    }
   ],
   "source": [
    "norm.cdf(x = -1, loc = 0, scale = 2)\n",
    "norm.cdf(-1, 0, 2)"
   ]
  },
  {
   "cell_type": "markdown",
   "id": "cc1d0d92-d299-4918-bcf6-2d9089224fbf",
   "metadata": {},
   "source": [
    "*By the way, once you've imported a module once, you don't need to import it again.*"
   ]
  },
  {
   "cell_type": "markdown",
   "id": "0e045572-74a2-4159-a745-0f425f7d4b86",
   "metadata": {},
   "source": [
    "Most of the analysis we do will require modules that are not automatically loaded. Therefore, you should get in the practice of importing any modules first before creating your analysis script."
   ]
  },
  {
   "cell_type": "markdown",
   "id": "37d33ec6-64cf-4337-a3d0-88f5443b0933",
   "metadata": {},
   "source": [
    "## Why use notebooks?\n",
    "Now that you've been introduced to variables and functions, it's just a matter of running all the right functions in the right order. Right?\n",
    "\n",
    "Well...\n",
    "* We don't want to have to type things over and over\n",
    "* We want to be able to fix mistakes, even if we don't realize the mistake at the moment we make it\n",
    "* We want to be able to get back to work after interruptions\n",
    "* We want others to see what we've done\n",
    "\n",
    "Using notebooks and creating scripts allow us to do this:\n",
    "* Saves process, not data\n",
    "   * Raw data + script = analysis\n",
    "* Reproducible/transparent\n",
    "   * Document what you've done and why\n",
    "   * Others can repeat your analysis\n",
    "* Correctable\n",
    "   * Helps recover from inevitable mistakes\n",
    "* Saves effort\n",
    "   * Autocomplete, hotkeys\n",
    "   \n",
    "In this class, everything must be in a notebook file. You need to be able to send me everything we need to recreate your analysis."
   ]
  },
  {
   "cell_type": "markdown",
   "id": "0d06e73a-6cb8-469f-96d5-e85d298e37cb",
   "metadata": {},
   "source": [
    "## Practice\n",
    "* What is 89.12345 rounded to 3 decimal places?\n",
    "* What is the square root of 39.45 rounded to 2 decimal places?\n",
    "* What is the probability that a random variable will be less than -2 if selected from a normal distribution with a mean of -1 and a standard deviation of 2?"
   ]
  },
  {
   "cell_type": "code",
   "execution_count": 17,
   "id": "d372335c-c322-4f53-b685-be1e05efbe7e",
   "metadata": {},
   "outputs": [
    {
     "data": {
      "text/plain": [
       "89.123"
      ]
     },
     "execution_count": 17,
     "metadata": {},
     "output_type": "execute_result"
    }
   ],
   "source": [
    "round(89.12345, 3)"
   ]
  },
  {
   "cell_type": "code",
   "execution_count": 18,
   "id": "b7e811b7-8805-411e-bda0-6b098e5521bd",
   "metadata": {},
   "outputs": [
    {
     "data": {
      "text/plain": [
       "6.28"
      ]
     },
     "execution_count": 18,
     "metadata": {},
     "output_type": "execute_result"
    }
   ],
   "source": [
    "round(math.sqrt(39.45), 2)"
   ]
  },
  {
   "cell_type": "code",
   "execution_count": 19,
   "id": "9bab11e9-baa0-4826-a636-1924eefdee9a",
   "metadata": {},
   "outputs": [
    {
     "data": {
      "text/plain": [
       "0.3085375387259869"
      ]
     },
     "execution_count": 19,
     "metadata": {},
     "output_type": "execute_result"
    }
   ],
   "source": [
    "norm.cdf(-2, -1, 2)"
   ]
  }
 ],
 "metadata": {
  "celltoolbar": "Slideshow",
  "kernelspec": {
   "display_name": "Python 3 (ipykernel)",
   "language": "python",
   "name": "python3"
  },
  "language_info": {
   "codemirror_mode": {
    "name": "ipython",
    "version": 3
   },
   "file_extension": ".py",
   "mimetype": "text/x-python",
   "name": "python",
   "nbconvert_exporter": "python",
   "pygments_lexer": "ipython3",
   "version": "3.10.8"
  }
 },
 "nbformat": 4,
 "nbformat_minor": 5
}
