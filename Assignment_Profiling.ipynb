{
 "cells": [
  {
   "cell_type": "code",
   "execution_count": 1,
   "id": "cf28da6b-300e-45fe-9f86-0412372d8b57",
   "metadata": {},
   "outputs": [],
   "source": [
    "#Run the following code to print multiple outputs from a cell\n",
    "get_ipython().ast_node_interactivity = 'all'"
   ]
  },
  {
   "cell_type": "markdown",
   "id": "cc893957-2b69-4b76-86c8-46feca8b3ba8",
   "metadata": {},
   "source": [
    "# Assignment 1: Profiling\n",
    "\n",
    "In this assignment, you will get practice using Python to profile the data set, *dataSeoulBike.csv*.\n",
    "\n",
    "You have a dataset of daily rentals from a bike rental service in Seoul, Korea. The dataset has the following columns:\n",
    "* 'Date': The date that the row of data is from.\n",
    "* 'RentedBikeCount': The total number of bike rentals for that day.\n",
    "* 'Forecast': The manager's rough, categorical forecast as to how much rental activity the day would have. 'Gold' is the highest expected rentals; 'Silver' is the second-highest; 'Normal' is all other days.\n",
    "* 'Temperature': The day's temperature (in degrees Celsius).\n",
    "* 'Humidity': The percent humidity\n",
    "* 'WindSpeed': The wind speed in meters per second.\n",
    "* 'Rainfall': The amount of rain (in millimeters).\n",
    "* 'Season': The season in which the date falls (Fall, Winter, Spring, or Summer)"
   ]
  },
  {
   "cell_type": "markdown",
   "id": "83864e65-8d4e-46e7-af4a-ac2ca6553982",
   "metadata": {},
   "source": [
    "## Importing the Data & Initial Data Checks"
   ]
  },
  {
   "cell_type": "markdown",
   "id": "690a3b68-bcff-4e07-898b-8384f75feaba",
   "metadata": {},
   "source": [
    "### Q1. Read in the data set, *dataSeoulBike.csv* and save it as a variable called `df`.\n",
    "No explanation needed for this question"
   ]
  },
  {
   "cell_type": "code",
   "id": "e0683c94-5828-455e-b11c-0dd688a056c8",
   "metadata": {
    "editable": true,
    "slideshow": {
     "slide_type": ""
    },
    "tags": [],
    "ExecuteTime": {
     "end_time": "2025-02-04T21:55:50.591650Z",
     "start_time": "2025-02-04T21:55:49.681766Z"
    }
   },
   "source": [
    "# Enter your code here\n",
    "import pandas\n",
    "df = pandas.read_csv(\"dataSeoulBike.csv\")\n",
    "df"
   ],
   "outputs": [
    {
     "data": {
      "text/plain": [
       "            Date  RentedBikeCount Forecast  Temperature  Humidity  WindSpeed  \\\n",
       "0     2018-02-15              270   Normal         12.9        14        4.3   \n",
       "1     2018-09-23             1031   Silver         22.7        44        1.4   \n",
       "2     2018-03-18              106   Normal          5.6        55        0.4   \n",
       "3     2018-01-07               40   Normal          4.4        58        0.7   \n",
       "4     2018-11-09                0   Normal         11.3        88        3.7   \n",
       "...          ...              ...      ...          ...       ...        ...   \n",
       "8317  2018-10-31              324   Normal          6.6        66        1.0   \n",
       "8318  2018-11-19              629   Normal          4.2        42        2.2   \n",
       "8319  2018-10-12             1488   Normal         16.9        34        1.2   \n",
       "8320  2018-02-21              365   Normal         13.3        14        2.9   \n",
       "8321  2018-01-26               68   Normal         -5.1        34        1.7   \n",
       "\n",
       "      Rainfall  Season  \n",
       "0          NaN  Winter  \n",
       "1          NaN    Fall  \n",
       "2          NaN  Spring  \n",
       "3          NaN  Winter  \n",
       "4          NaN    Fall  \n",
       "...        ...     ...  \n",
       "8317       NaN    Fall  \n",
       "8318       NaN    Fall  \n",
       "8319       NaN    Fall  \n",
       "8320       NaN  Winter  \n",
       "8321       NaN  Winter  \n",
       "\n",
       "[8322 rows x 8 columns]"
      ],
      "text/html": [
       "<div>\n",
       "<style scoped>\n",
       "    .dataframe tbody tr th:only-of-type {\n",
       "        vertical-align: middle;\n",
       "    }\n",
       "\n",
       "    .dataframe tbody tr th {\n",
       "        vertical-align: top;\n",
       "    }\n",
       "\n",
       "    .dataframe thead th {\n",
       "        text-align: right;\n",
       "    }\n",
       "</style>\n",
       "<table border=\"1\" class=\"dataframe\">\n",
       "  <thead>\n",
       "    <tr style=\"text-align: right;\">\n",
       "      <th></th>\n",
       "      <th>Date</th>\n",
       "      <th>RentedBikeCount</th>\n",
       "      <th>Forecast</th>\n",
       "      <th>Temperature</th>\n",
       "      <th>Humidity</th>\n",
       "      <th>WindSpeed</th>\n",
       "      <th>Rainfall</th>\n",
       "      <th>Season</th>\n",
       "    </tr>\n",
       "  </thead>\n",
       "  <tbody>\n",
       "    <tr>\n",
       "      <th>0</th>\n",
       "      <td>2018-02-15</td>\n",
       "      <td>270</td>\n",
       "      <td>Normal</td>\n",
       "      <td>12.9</td>\n",
       "      <td>14</td>\n",
       "      <td>4.3</td>\n",
       "      <td>NaN</td>\n",
       "      <td>Winter</td>\n",
       "    </tr>\n",
       "    <tr>\n",
       "      <th>1</th>\n",
       "      <td>2018-09-23</td>\n",
       "      <td>1031</td>\n",
       "      <td>Silver</td>\n",
       "      <td>22.7</td>\n",
       "      <td>44</td>\n",
       "      <td>1.4</td>\n",
       "      <td>NaN</td>\n",
       "      <td>Fall</td>\n",
       "    </tr>\n",
       "    <tr>\n",
       "      <th>2</th>\n",
       "      <td>2018-03-18</td>\n",
       "      <td>106</td>\n",
       "      <td>Normal</td>\n",
       "      <td>5.6</td>\n",
       "      <td>55</td>\n",
       "      <td>0.4</td>\n",
       "      <td>NaN</td>\n",
       "      <td>Spring</td>\n",
       "    </tr>\n",
       "    <tr>\n",
       "      <th>3</th>\n",
       "      <td>2018-01-07</td>\n",
       "      <td>40</td>\n",
       "      <td>Normal</td>\n",
       "      <td>4.4</td>\n",
       "      <td>58</td>\n",
       "      <td>0.7</td>\n",
       "      <td>NaN</td>\n",
       "      <td>Winter</td>\n",
       "    </tr>\n",
       "    <tr>\n",
       "      <th>4</th>\n",
       "      <td>2018-11-09</td>\n",
       "      <td>0</td>\n",
       "      <td>Normal</td>\n",
       "      <td>11.3</td>\n",
       "      <td>88</td>\n",
       "      <td>3.7</td>\n",
       "      <td>NaN</td>\n",
       "      <td>Fall</td>\n",
       "    </tr>\n",
       "    <tr>\n",
       "      <th>...</th>\n",
       "      <td>...</td>\n",
       "      <td>...</td>\n",
       "      <td>...</td>\n",
       "      <td>...</td>\n",
       "      <td>...</td>\n",
       "      <td>...</td>\n",
       "      <td>...</td>\n",
       "      <td>...</td>\n",
       "    </tr>\n",
       "    <tr>\n",
       "      <th>8317</th>\n",
       "      <td>2018-10-31</td>\n",
       "      <td>324</td>\n",
       "      <td>Normal</td>\n",
       "      <td>6.6</td>\n",
       "      <td>66</td>\n",
       "      <td>1.0</td>\n",
       "      <td>NaN</td>\n",
       "      <td>Fall</td>\n",
       "    </tr>\n",
       "    <tr>\n",
       "      <th>8318</th>\n",
       "      <td>2018-11-19</td>\n",
       "      <td>629</td>\n",
       "      <td>Normal</td>\n",
       "      <td>4.2</td>\n",
       "      <td>42</td>\n",
       "      <td>2.2</td>\n",
       "      <td>NaN</td>\n",
       "      <td>Fall</td>\n",
       "    </tr>\n",
       "    <tr>\n",
       "      <th>8319</th>\n",
       "      <td>2018-10-12</td>\n",
       "      <td>1488</td>\n",
       "      <td>Normal</td>\n",
       "      <td>16.9</td>\n",
       "      <td>34</td>\n",
       "      <td>1.2</td>\n",
       "      <td>NaN</td>\n",
       "      <td>Fall</td>\n",
       "    </tr>\n",
       "    <tr>\n",
       "      <th>8320</th>\n",
       "      <td>2018-02-21</td>\n",
       "      <td>365</td>\n",
       "      <td>Normal</td>\n",
       "      <td>13.3</td>\n",
       "      <td>14</td>\n",
       "      <td>2.9</td>\n",
       "      <td>NaN</td>\n",
       "      <td>Winter</td>\n",
       "    </tr>\n",
       "    <tr>\n",
       "      <th>8321</th>\n",
       "      <td>2018-01-26</td>\n",
       "      <td>68</td>\n",
       "      <td>Normal</td>\n",
       "      <td>-5.1</td>\n",
       "      <td>34</td>\n",
       "      <td>1.7</td>\n",
       "      <td>NaN</td>\n",
       "      <td>Winter</td>\n",
       "    </tr>\n",
       "  </tbody>\n",
       "</table>\n",
       "<p>8322 rows × 8 columns</p>\n",
       "</div>"
      ]
     },
     "execution_count": 1,
     "metadata": {},
     "output_type": "execute_result"
    }
   ],
   "execution_count": 1
  },
  {
   "cell_type": "markdown",
   "id": "b7635baf-3661-4294-accc-ce4d743e21f4",
   "metadata": {},
   "source": [
    "### Q2. Check the data types -- which variables are numeric and which variables are categorical? Does it appear that all variables are being read in correctly? If not, please explain.\n",
    "*[type your response here]*"
   ]
  },
  {
   "cell_type": "code",
   "id": "16afb5da-9f2d-4ef8-973f-b56bdbd79e09",
   "metadata": {
    "ExecuteTime": {
     "end_time": "2025-02-04T21:55:52.554396Z",
     "start_time": "2025-02-04T21:55:52.550613Z"
    }
   },
   "source": [
    "# Enter your code here\n",
    "df.dtypes\n",
    "# rf: mostly looks correct to me, curious about the Date, Forecast, and Season all being \"object\" type, I would expect the latter two to be Strings and the Date to be a Date or Timestamp format \n",
    "\n"
   ],
   "outputs": [
    {
     "data": {
      "text/plain": [
       "Date                object\n",
       "RentedBikeCount      int64\n",
       "Forecast            object\n",
       "Temperature        float64\n",
       "Humidity             int64\n",
       "WindSpeed          float64\n",
       "Rainfall           float64\n",
       "Season              object\n",
       "dtype: object"
      ]
     },
     "execution_count": 2,
     "metadata": {},
     "output_type": "execute_result"
    }
   ],
   "execution_count": 2
  },
  {
   "cell_type": "markdown",
   "id": "90daa562-6a98-45b1-9763-d0dcf1b34743",
   "metadata": {},
   "source": [
    "### Q3. Are there any missing values and, if so, how many and for which variable(s)?\n",
    "*[type your response here]*"
   ]
  },
  {
   "cell_type": "code",
   "id": "69afc536-a9e8-4739-a980-dcfa56dcd072",
   "metadata": {
    "ExecuteTime": {
     "end_time": "2025-02-04T21:55:54.439303Z",
     "start_time": "2025-02-04T21:55:54.432304Z"
    }
   },
   "source": [
    "# Enter your code here\n",
    "df.isna().sum()\n",
    "# 7,820 missing values for Rainfall"
   ],
   "outputs": [
    {
     "data": {
      "text/plain": [
       "Date                  0\n",
       "RentedBikeCount       0\n",
       "Forecast              0\n",
       "Temperature           0\n",
       "Humidity              0\n",
       "WindSpeed             0\n",
       "Rainfall           7820\n",
       "Season                0\n",
       "dtype: int64"
      ]
     },
     "execution_count": 3,
     "metadata": {},
     "output_type": "execute_result"
    }
   ],
   "execution_count": 3
  },
  {
   "cell_type": "markdown",
   "id": "bb563fd7-b4f1-451e-a25c-0e94675be041",
   "metadata": {},
   "source": [
    "## Profiling: Numeric Variables"
   ]
  },
  {
   "cell_type": "markdown",
   "id": "2a8aa162-2b3d-44d1-a31b-916769948a66",
   "metadata": {},
   "source": [
    "### Q4. Get the summary statistics for the numeric variables in this data set.\n",
    "No explanation needed for this question."
   ]
  },
  {
   "cell_type": "code",
   "id": "98fb0f19-7a13-41fe-9db7-65208b6c8e86",
   "metadata": {
    "ExecuteTime": {
     "end_time": "2025-02-04T21:55:57.129629Z",
     "start_time": "2025-02-04T21:55:57.115737Z"
    }
   },
   "source": [
    "# Enter your code here\n",
    "df.describe()"
   ],
   "outputs": [
    {
     "data": {
      "text/plain": [
       "       RentedBikeCount  Temperature     Humidity    WindSpeed    Rainfall\n",
       "count      8322.000000  8322.000000  8322.000000  8322.000000  502.000000\n",
       "mean        706.149724    15.801682    58.221581     1.730269    2.512550\n",
       "std         648.101064     9.055946    20.370276     1.036351    4.008058\n",
       "min           0.000000    -7.800000     0.000000     0.000000    0.100000\n",
       "25%         192.000000     8.900000    42.000000     0.900000    0.500000\n",
       "50%         503.000000    15.400000    57.000000     1.500000    1.000000\n",
       "75%        1066.000000    22.700000    74.000000     2.300000    2.500000\n",
       "max        3556.000000    39.400000    98.000000     7.400000   35.000000"
      ],
      "text/html": [
       "<div>\n",
       "<style scoped>\n",
       "    .dataframe tbody tr th:only-of-type {\n",
       "        vertical-align: middle;\n",
       "    }\n",
       "\n",
       "    .dataframe tbody tr th {\n",
       "        vertical-align: top;\n",
       "    }\n",
       "\n",
       "    .dataframe thead th {\n",
       "        text-align: right;\n",
       "    }\n",
       "</style>\n",
       "<table border=\"1\" class=\"dataframe\">\n",
       "  <thead>\n",
       "    <tr style=\"text-align: right;\">\n",
       "      <th></th>\n",
       "      <th>RentedBikeCount</th>\n",
       "      <th>Temperature</th>\n",
       "      <th>Humidity</th>\n",
       "      <th>WindSpeed</th>\n",
       "      <th>Rainfall</th>\n",
       "    </tr>\n",
       "  </thead>\n",
       "  <tbody>\n",
       "    <tr>\n",
       "      <th>count</th>\n",
       "      <td>8322.000000</td>\n",
       "      <td>8322.000000</td>\n",
       "      <td>8322.000000</td>\n",
       "      <td>8322.000000</td>\n",
       "      <td>502.000000</td>\n",
       "    </tr>\n",
       "    <tr>\n",
       "      <th>mean</th>\n",
       "      <td>706.149724</td>\n",
       "      <td>15.801682</td>\n",
       "      <td>58.221581</td>\n",
       "      <td>1.730269</td>\n",
       "      <td>2.512550</td>\n",
       "    </tr>\n",
       "    <tr>\n",
       "      <th>std</th>\n",
       "      <td>648.101064</td>\n",
       "      <td>9.055946</td>\n",
       "      <td>20.370276</td>\n",
       "      <td>1.036351</td>\n",
       "      <td>4.008058</td>\n",
       "    </tr>\n",
       "    <tr>\n",
       "      <th>min</th>\n",
       "      <td>0.000000</td>\n",
       "      <td>-7.800000</td>\n",
       "      <td>0.000000</td>\n",
       "      <td>0.000000</td>\n",
       "      <td>0.100000</td>\n",
       "    </tr>\n",
       "    <tr>\n",
       "      <th>25%</th>\n",
       "      <td>192.000000</td>\n",
       "      <td>8.900000</td>\n",
       "      <td>42.000000</td>\n",
       "      <td>0.900000</td>\n",
       "      <td>0.500000</td>\n",
       "    </tr>\n",
       "    <tr>\n",
       "      <th>50%</th>\n",
       "      <td>503.000000</td>\n",
       "      <td>15.400000</td>\n",
       "      <td>57.000000</td>\n",
       "      <td>1.500000</td>\n",
       "      <td>1.000000</td>\n",
       "    </tr>\n",
       "    <tr>\n",
       "      <th>75%</th>\n",
       "      <td>1066.000000</td>\n",
       "      <td>22.700000</td>\n",
       "      <td>74.000000</td>\n",
       "      <td>2.300000</td>\n",
       "      <td>2.500000</td>\n",
       "    </tr>\n",
       "    <tr>\n",
       "      <th>max</th>\n",
       "      <td>3556.000000</td>\n",
       "      <td>39.400000</td>\n",
       "      <td>98.000000</td>\n",
       "      <td>7.400000</td>\n",
       "      <td>35.000000</td>\n",
       "    </tr>\n",
       "  </tbody>\n",
       "</table>\n",
       "</div>"
      ]
     },
     "execution_count": 4,
     "metadata": {},
     "output_type": "execute_result"
    }
   ],
   "execution_count": 4
  },
  {
   "cell_type": "markdown",
   "id": "3ec5f692-0571-4b38-ba6e-4e628da3cd16",
   "metadata": {},
   "source": [
    "### Q5. Based on the summary statistics, describe the distribution of the `RentedBikeCount` variable. Be sure to give a measure of center and spread in your description. Also, based on the summary stats alone, do you think the distribution is roughly symmetric or skewed? (Do not create a graph for this question.)\n",
    "*rf: Across 8,322 records, with a minimum of 0, a maximum of 3556, and a mean of 706. The 50% mark at 503, it seems this data probably skews towards the lower and closer to the midpoint between 503 and 706 vs skewing to the right/top/max of distribution at 3556*"
   ]
  },
  {
   "cell_type": "markdown",
   "id": "242c04b1-fe10-4203-b37b-ae65eea212df",
   "metadata": {},
   "source": [
    "### Q6. Based on the summary statistics alone, what concerns might you have about the `Rainfall` variable?\n",
    "*rf: Limited availability of data is the biggest concern. An added concern might be that the Max is significantly higher than all other summary stats.  *"
   ]
  },
  {
   "cell_type": "markdown",
   "id": "77080b75-e7f7-45b4-80e7-e8eb2fbc0234",
   "metadata": {},
   "source": [
    "## Profiling: Categorical Variables"
   ]
  },
  {
   "cell_type": "markdown",
   "id": "7d8f108d-a297-4da7-8513-c484c103291b",
   "metadata": {},
   "source": [
    "### Q7. How many rows of data have a `Forecast` of \"Gold\"?\n",
    "*rf: 257 have value \"Gold\"*"
   ]
  },
  {
   "cell_type": "code",
   "id": "acc4aa49-8e85-49d6-bdce-43ff6caafcf2",
   "metadata": {
    "ExecuteTime": {
     "end_time": "2025-02-04T21:56:09.535645Z",
     "start_time": "2025-02-04T21:56:09.528048Z"
    }
   },
   "source": [
    "# Enter your code here\n",
    "df[\"Forecast\"].value_counts()"
   ],
   "outputs": [
    {
     "data": {
      "text/plain": [
       "Forecast\n",
       "Normal    6376\n",
       "Silver    1689\n",
       "Gold       257\n",
       "Name: count, dtype: int64"
      ]
     },
     "execution_count": 5,
     "metadata": {},
     "output_type": "execute_result"
    }
   ],
   "execution_count": 5
  },
  {
   "cell_type": "markdown",
   "id": "11b5fa98-3f6d-4eae-b3fc-bda91973995a",
   "metadata": {},
   "source": [
    "### Q8. What % of rows in the data set have a `Forecast` of \"Silver\"? Be sure to round your answer to 2 decimals in both the response as well as the code.\n",
    "*rf: 20.30% (from 0.2030) *"
   ]
  },
  {
   "cell_type": "code",
   "id": "bcad6ccc-4e55-48fc-916d-fb2d896417d0",
   "metadata": {
    "ExecuteTime": {
     "end_time": "2025-02-04T21:56:11.601856Z",
     "start_time": "2025-02-04T21:56:11.596989Z"
    }
   },
   "source": [
    "df[\"Forecast\"].value_counts(normalize=True).round(4)\n"
   ],
   "outputs": [
    {
     "data": {
      "text/plain": [
       "Forecast\n",
       "Normal    0.7662\n",
       "Silver    0.2030\n",
       "Gold      0.0309\n",
       "Name: proportion, dtype: float64"
      ]
     },
     "execution_count": 6,
     "metadata": {},
     "output_type": "execute_result"
    }
   ],
   "execution_count": 6
  },
  {
   "cell_type": "markdown",
   "id": "8a56bf7d-36b6-4151-9e68-13edf425310e",
   "metadata": {},
   "source": [
    "### Q9. Create a contingency table to show the relative counts between the `Forecast` and `Season` variables. Be sure to include row and column totals.\n",
    "No explanation needed for this question."
   ]
  },
  {
   "cell_type": "code",
   "execution_count": 22,
   "id": "d2bcf1f5-56c6-4623-b4ff-d20cf95e7154",
   "metadata": {},
   "outputs": [
    {
     "data": {
      "text/html": [
       "<div>\n",
       "<style scoped>\n",
       "    .dataframe tbody tr th:only-of-type {\n",
       "        vertical-align: middle;\n",
       "    }\n",
       "\n",
       "    .dataframe tbody tr th {\n",
       "        vertical-align: top;\n",
       "    }\n",
       "\n",
       "    .dataframe thead th {\n",
       "        text-align: right;\n",
       "    }\n",
       "</style>\n",
       "<table border=\"1\" class=\"dataframe\">\n",
       "  <thead>\n",
       "    <tr style=\"text-align: right;\">\n",
       "      <th>Season</th>\n",
       "      <th>Fall</th>\n",
       "      <th>Spring</th>\n",
       "      <th>Summer</th>\n",
       "      <th>Winter</th>\n",
       "      <th>All</th>\n",
       "    </tr>\n",
       "    <tr>\n",
       "      <th>Forecast</th>\n",
       "      <th></th>\n",
       "      <th></th>\n",
       "      <th></th>\n",
       "      <th></th>\n",
       "      <th></th>\n",
       "    </tr>\n",
       "  </thead>\n",
       "  <tbody>\n",
       "    <tr>\n",
       "      <th>Gold</th>\n",
       "      <td>61</td>\n",
       "      <td>49</td>\n",
       "      <td>147</td>\n",
       "      <td>0</td>\n",
       "      <td>257</td>\n",
       "    </tr>\n",
       "    <tr>\n",
       "      <th>Normal</th>\n",
       "      <td>1438</td>\n",
       "      <td>1619</td>\n",
       "      <td>1287</td>\n",
       "      <td>2032</td>\n",
       "      <td>6376</td>\n",
       "    </tr>\n",
       "    <tr>\n",
       "      <th>Silver</th>\n",
       "      <td>564</td>\n",
       "      <td>438</td>\n",
       "      <td>670</td>\n",
       "      <td>17</td>\n",
       "      <td>1689</td>\n",
       "    </tr>\n",
       "    <tr>\n",
       "      <th>All</th>\n",
       "      <td>2063</td>\n",
       "      <td>2106</td>\n",
       "      <td>2104</td>\n",
       "      <td>2049</td>\n",
       "      <td>8322</td>\n",
       "    </tr>\n",
       "  </tbody>\n",
       "</table>\n",
       "</div>"
      ],
      "text/plain": [
       "Season    Fall  Spring  Summer  Winter   All\n",
       "Forecast                                    \n",
       "Gold        61      49     147       0   257\n",
       "Normal    1438    1619    1287    2032  6376\n",
       "Silver     564     438     670      17  1689\n",
       "All       2063    2106    2104    2049  8322"
      ]
     },
     "execution_count": 22,
     "metadata": {},
     "output_type": "execute_result"
    }
   ],
   "source": [
    "# Enter your code here\n",
    "pandas.crosstab(df.Forecast, df.Season, margins=True)"
   ]
  },
  {
   "cell_type": "markdown",
   "id": "a7944ab8-249a-4684-8c34-ba9ba2a388f2",
   "metadata": {
    "editable": true,
    "slideshow": {
     "slide_type": ""
    },
    "tags": []
   },
   "source": [
    "### Q10. Create the same table as in question 9, but show the relative %'s out of the total. Which season had the highest % of \"Silver\" forecast days?\n",
    "*rf: Summer at 8.01% rounded (from 0.080509)*"
   ]
  },
  {
   "cell_type": "code",
   "execution_count": 23,
   "id": "a401ba9b-690e-4ad7-82cf-e85dfb294d32",
   "metadata": {},
   "outputs": [
    {
     "data": {
      "text/html": [
       "<div>\n",
       "<style scoped>\n",
       "    .dataframe tbody tr th:only-of-type {\n",
       "        vertical-align: middle;\n",
       "    }\n",
       "\n",
       "    .dataframe tbody tr th {\n",
       "        vertical-align: top;\n",
       "    }\n",
       "\n",
       "    .dataframe thead th {\n",
       "        text-align: right;\n",
       "    }\n",
       "</style>\n",
       "<table border=\"1\" class=\"dataframe\">\n",
       "  <thead>\n",
       "    <tr style=\"text-align: right;\">\n",
       "      <th>Season</th>\n",
       "      <th>Fall</th>\n",
       "      <th>Spring</th>\n",
       "      <th>Summer</th>\n",
       "      <th>Winter</th>\n",
       "      <th>All</th>\n",
       "    </tr>\n",
       "    <tr>\n",
       "      <th>Forecast</th>\n",
       "      <th></th>\n",
       "      <th></th>\n",
       "      <th></th>\n",
       "      <th></th>\n",
       "      <th></th>\n",
       "    </tr>\n",
       "  </thead>\n",
       "  <tbody>\n",
       "    <tr>\n",
       "      <th>Gold</th>\n",
       "      <td>0.007330</td>\n",
       "      <td>0.005888</td>\n",
       "      <td>0.017664</td>\n",
       "      <td>0.000000</td>\n",
       "      <td>0.030882</td>\n",
       "    </tr>\n",
       "    <tr>\n",
       "      <th>Normal</th>\n",
       "      <td>0.172795</td>\n",
       "      <td>0.194545</td>\n",
       "      <td>0.154650</td>\n",
       "      <td>0.244172</td>\n",
       "      <td>0.766162</td>\n",
       "    </tr>\n",
       "    <tr>\n",
       "      <th>Silver</th>\n",
       "      <td>0.067772</td>\n",
       "      <td>0.052632</td>\n",
       "      <td>0.080509</td>\n",
       "      <td>0.002043</td>\n",
       "      <td>0.202956</td>\n",
       "    </tr>\n",
       "    <tr>\n",
       "      <th>All</th>\n",
       "      <td>0.247897</td>\n",
       "      <td>0.253064</td>\n",
       "      <td>0.252824</td>\n",
       "      <td>0.246215</td>\n",
       "      <td>1.000000</td>\n",
       "    </tr>\n",
       "  </tbody>\n",
       "</table>\n",
       "</div>"
      ],
      "text/plain": [
       "Season        Fall    Spring    Summer    Winter       All\n",
       "Forecast                                                  \n",
       "Gold      0.007330  0.005888  0.017664  0.000000  0.030882\n",
       "Normal    0.172795  0.194545  0.154650  0.244172  0.766162\n",
       "Silver    0.067772  0.052632  0.080509  0.002043  0.202956\n",
       "All       0.247897  0.253064  0.252824  0.246215  1.000000"
      ]
     },
     "execution_count": 23,
     "metadata": {},
     "output_type": "execute_result"
    }
   ],
   "source": [
    "# Enter your code here\n",
    "pandas.crosstab(df.Forecast, df.Season, normalize=True, margins=True)"
   ]
  },
  {
   "cell_type": "markdown",
   "id": "2deedc62-4b10-4e3d-816c-fed2780de7e8",
   "metadata": {},
   "source": [
    "## Basic Visualizations"
   ]
  },
  {
   "cell_type": "markdown",
   "id": "f3c8234f-b187-4804-99ba-6ae4e6805ff5",
   "metadata": {},
   "source": [
    "### Q11. Create a graph to show the distribution of the `Temperature` variable. Based on your graph, does it look like the variable is roughly symmetric or skewed?\n",
    "*rf: looks fairly symmetric to me, fewer bigger jumps vs more smaller drops at opposing sides fo the distribution*"
   ]
  },
  {
   "cell_type": "code",
   "execution_count": 27,
   "id": "0af3b3ef-2125-4db7-962e-bfdb5ceaf7ba",
   "metadata": {
    "editable": true,
    "jp-MarkdownHeadingCollapsed": true,
    "slideshow": {
     "slide_type": ""
    },
    "tags": []
   },
   "outputs": [
    {
     "data": {
      "text/plain": [
       "<Axes: ylabel='Frequency'>"
      ]
     },
     "execution_count": 27,
     "metadata": {},
     "output_type": "execute_result"
    },
    {
     "data": {
      "image/png": "[encoded data removed]",
      "text/plain": [
       "<Figure size 640x480 with 1 Axes>"
      ]
     },
     "metadata": {},
     "output_type": "display_data"
    }
   ],
   "source": [
    "# Enter your code here\n",
    "df[\"Temperature\"].plot.hist()"
   ]
  },
  {
   "cell_type": "markdown",
   "id": "9e816788-4c86-4776-be63-1812b771faf9",
   "metadata": {},
   "source": [
    "### Q12. Create a scatter plot to show the relationship between `Temperature` (on the x-axis) and `RentedBikeCount` (on the y-axis). Does your graph suggest there is a relationship and, if so, is it positive or negative?\n",
    "*rf: it does appear to suggest that higher temps, up to ~27 degrees, leads to more rentals*"
   ]
  },
  {
   "cell_type": "code",
   "execution_count": 28,
   "id": "942f8191-1f5c-4884-b818-391d039c90a8",
   "metadata": {
    "editable": true,
    "slideshow": {
     "slide_type": ""
    },
    "tags": []
   },
   "outputs": [
    {
     "data": {
      "text/plain": [
       "<Axes: xlabel='Temperature', ylabel='RentedBikeCount'>"
      ]
     },
     "execution_count": 28,
     "metadata": {},
     "output_type": "execute_result"
    },
    {
     "data": {
      "image/png": "[encoded data removed]",
      "text/plain": [
       "<Figure size 640x480 with 1 Axes>"
      ]
     },
     "metadata": {},
     "output_type": "display_data"
    }
   ],
   "source": [
    "# Enter your code here\n",
    "df.plot.scatter(x = \"Temperature\", y = \"RentedBikeCount\")"
   ]
  },
  {
   "cell_type": "markdown",
   "id": "a3cf5cc0-e343-4c8d-a209-249b5426269a",
   "metadata": {},
   "source": [
    "### Q13. Create a stacked bar chart showing the breakdown of each `Forecast` category by `Season`. The bar chart should show the `Forecast` categories on the x-axis and each bar split up by color according to `Season`. The bar chart should also show relative %'s, with each bar equaling 100%.\n",
    "No explanation needed for this question."
   ]
  },
  {
   "cell_type": "code",
   "execution_count": 33,
   "id": "a7e1cd6a-3b74-4daf-a078-c4166efc2a6f",
   "metadata": {},
   "outputs": [
    {
     "data": {
      "text/plain": [
       "<Axes: xlabel='Forecast'>"
      ]
     },
     "execution_count": 33,
     "metadata": {},
     "output_type": "execute_result"
    },
    {
     "data": {
      "image/png": "[encoded data removed]",
      "text/plain": [
       "<Figure size 640x480 with 1 Axes>"
      ]
     },
     "metadata": {},
     "output_type": "display_data"
    }
   ],
   "source": [
    "# Enter your code here\n",
    "pandas.crosstab(df[\"Forecast\"], df[\"Season\"], normalize=\"index\").plot.bar(stacked = True)"
   ]
  },
  {
   "cell_type": "markdown",
   "id": "2de34bd6-8131-4c59-a895-121c2a37f4a8",
   "metadata": {
    "editable": true,
    "slideshow": {
     "slide_type": ""
    },
    "tags": []
   },
   "source": [
    "### Q14. Create a side-by-side box plot of `Temperature` broken out by `Forecast`. Based on your box plot, which `Forecast` appears to have the lowest median temperature?\n",
    "*rf: The normal forecast appears to have the lowest median temp around 12 degrees*"
   ]
  },
  {
   "cell_type": "code",
   "execution_count": 37,
   "id": "c9c6215f-1c10-4f56-9e30-f9d7099aa0d3",
   "metadata": {},
   "outputs": [
    {
     "data": {
      "text/plain": [
       "<Axes: title={'center': 'Temperature'}, xlabel='Forecast'>"
      ]
     },
     "execution_count": 37,
     "metadata": {},
     "output_type": "execute_result"
    },
    {
     "data": {
      "image/png": "[encoded data removed]",
      "text/plain": [
       "<Figure size 640x480 with 1 Axes>"
      ]
     },
     "metadata": {},
     "output_type": "display_data"
    }
   ],
   "source": [
    "# Enter your code here\n",
    "df.boxplot(column = \"Temperature\", by = \"Forecast\")"
   ]
  },
  {
   "cell_type": "code",
   "execution_count": null,
   "id": "70c20b62-1606-43ad-a792-c080aa43b029",
   "metadata": {},
   "outputs": [],
   "source": []
  }
 ],
 "metadata": {
  "kernelspec": {
   "display_name": "Python 3 (ipykernel)",
   "language": "python",
   "name": "python3"
  },
  "language_info": {
   "codemirror_mode": {
    "name": "ipython",
    "version": 3
   },
   "file_extension": ".py",
   "mimetype": "text/x-python",
   "name": "python",
   "nbconvert_exporter": "python",
   "pygments_lexer": "ipython3",
   "version": "3.12.6"
  }
 },
 "nbformat": 4,
 "nbformat_minor": 5
}
