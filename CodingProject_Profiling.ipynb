{
 "cells": [
  {
   "cell_type": "code",
   "id": "cf28da6b-300e-45fe-9f86-0412372d8b57",
   "metadata": {
    "ExecuteTime": {
     "end_time": "2025-02-09T02:48:59.506668Z",
     "start_time": "2025-02-09T02:48:59.503698Z"
    }
   },
   "source": [
    "#Run the following code to print multiple outputs from a cell\n",
    "get_ipython().ast_node_interactivity = 'all'"
   ],
   "outputs": [],
   "execution_count": 1
  },
  {
   "cell_type": "markdown",
   "id": "cc893957-2b69-4b76-86c8-46feca8b3ba8",
   "metadata": {},
   "source": [
    "# Coding Project: Profiling\n",
    "\n",
    "#### Now that you have data, use the techniques from our profiling sessions to learn more about the data set. "
   ]
  },
  {
   "cell_type": "markdown",
   "id": "83864e65-8d4e-46e7-af4a-ac2ca6553982",
   "metadata": {},
   "source": [
    "## Importing the Data & Initial Data Checks\n",
    "\n",
    "#### 1. In the code cell below, read in your data set. How many rows and how many columns of data do you have?"
   ]
  },
  {
   "cell_type": "markdown",
   "id": "b23de9cd-c7ab-49ea-95d4-4cb5d8f8376c",
   "metadata": {},
   "source": [
    "[Double-click to type your answer here]"
   ]
  },
  {
   "cell_type": "code",
   "execution_count": null,
   "id": "725b674c-7f87-48e1-9fbe-9a9e10920508",
   "metadata": {},
   "outputs": [],
   "source": [
    "# Enter your code here\n"
   ]
  },
  {
   "cell_type": "markdown",
   "id": "99a17200-f09f-447b-95f1-c9947dccfac2",
   "metadata": {},
   "source": [
    "#### 2. Check the data types for your variables. Are they all being read in correctly or are there variables that will need to be converted to the correct data type before building your models? (E.g., Are there dates being read in as \"object\" or are there categorical variables using number categories that are being read in as \"int64\"? Is there numeric data being read in as \"object\" because of currency symbols or commas in your raw data?)"
   ]
  },
  {
   "cell_type": "markdown",
   "id": "9605c99d-0a1d-4987-adc0-d783440d8bc7",
   "metadata": {},
   "source": [
    "[Double-click to type your answer here]"
   ]
  },
  {
   "cell_type": "code",
   "execution_count": null,
   "id": "1fc1edbe-ea40-477d-842a-7beb60080c3b",
   "metadata": {},
   "outputs": [],
   "source": [
    "# Enter your code here\n"
   ]
  },
  {
   "cell_type": "markdown",
   "id": "ff014535-e4c0-48d8-9b3c-1dde01999e48",
   "metadata": {},
   "source": [
    "#### 3. Check your data for missing values. If data is missing, for which variable(s) is it missing and how much data is missing? Do you have any theories for why the data might be missing? (E.g., Is the missing data really 0's?) Keeping in mind that, when you build your models, any rows with missing data will be dropped, do you have any concerns with keeping the missing data as is? (Another way to think about this is, do you think it will be okay to lose the data in those rows for your models or will it make sense during feature engineering to impute some value for the missing data?)"
   ]
  },
  {
   "cell_type": "markdown",
   "id": "8e2b19ef-ffa9-4931-95e4-7f46ace4aea8",
   "metadata": {},
   "source": [
    "[Double-click to type your answer here]"
   ]
  },
  {
   "cell_type": "code",
   "execution_count": null,
   "id": "2fcb557c-8e19-4954-8685-524073bee165",
   "metadata": {},
   "outputs": [],
   "source": [
    "# Enter your code here\n"
   ]
  },
  {
   "cell_type": "markdown",
   "id": "b3a63725-3d1a-41a9-a067-ca41f0885e08",
   "metadata": {},
   "source": [
    "## Profiling Numeric Data\n",
    "\n",
    "#### 4. Get the summary statistics for your numeric variables. No explanation is necessary for this step."
   ]
  },
  {
   "cell_type": "code",
   "execution_count": null,
   "id": "f070a672-6147-48f7-b45b-f4b371785bfc",
   "metadata": {},
   "outputs": [],
   "source": [
    "# Enter your code here\n"
   ]
  },
  {
   "cell_type": "markdown",
   "id": "951f44f3-53aa-4edc-bf71-3f787a1cb6a1",
   "metadata": {},
   "source": [
    "#### 5. Pick 3 key numeric variables and graph the distribution of each using the appropriate graph. No explanation is necessary for this step. (If you have fewer than 3 numeric variables in your data, only create graphs for the variables you have and only summarize for those variables in the next step.)"
   ]
  },
  {
   "cell_type": "code",
   "execution_count": null,
   "id": "fc49d84d-8782-435d-a1f0-836d7bca8ff8",
   "metadata": {},
   "outputs": [],
   "source": [
    "# Enter your code for graph #1 here\n"
   ]
  },
  {
   "cell_type": "code",
   "execution_count": null,
   "id": "40af4c9e-8871-4e20-8430-3075055c16ca",
   "metadata": {},
   "outputs": [],
   "source": [
    "# Enter your code for graph #2 here\n"
   ]
  },
  {
   "cell_type": "code",
   "execution_count": null,
   "id": "28d5bb49-1c84-43d0-872b-d7555f68cbe1",
   "metadata": {},
   "outputs": [],
   "source": [
    "# Enter your code for graph #3 here\n"
   ]
  },
  {
   "cell_type": "markdown",
   "id": "c97bde5a-a755-4c84-85e9-12fba253b76c",
   "metadata": {},
   "source": [
    "#### 6. Now provide a summary for each of the 3 numeric variables you graphed above. In your summaries, you should discuss the shape of the variable's distribution (e.g., is it symmetric or skewed? is it unimodal, bimodal, etc.?) Also, for each of the 3 variables, provide a measure of center (mean or median), a measure of spread (standard deviation or IQR), and discuss any potential outliers or other anomalies. "
   ]
  },
  {
   "cell_type": "markdown",
   "id": "3529c646-3ef6-4762-bdc5-d11fca576f11",
   "metadata": {},
   "source": [
    "[Double-click to type your answer here]"
   ]
  },
  {
   "cell_type": "markdown",
   "id": "8b438edd-9017-40cd-bc6d-f2ac96a192d1",
   "metadata": {},
   "source": [
    "## Profiling Categorical Data\n",
    "\n",
    "#### 7. Pick 2 key categorical variables and provide a summary: how many categories are there for each? what are the biggest categories and what % of the data falls into those main categories (including any NA's)? If you have no categorical variables in your data, provide 1-2 ideas for how you could transform some of your numeric data into categories during feature engineering."
   ]
  },
  {
   "cell_type": "markdown",
   "id": "5cc019bb-da96-4853-a2fa-42bf95903bc3",
   "metadata": {},
   "source": [
    "[Double-click to type your answer here]"
   ]
  },
  {
   "cell_type": "code",
   "execution_count": null,
   "id": "7dd947d5-1fe4-45b2-8a06-d5fa10fa1621",
   "metadata": {},
   "outputs": [],
   "source": [
    "# Enter your code here\n"
   ]
  },
  {
   "cell_type": "markdown",
   "id": "31ff461d-6dca-47bd-9beb-e4dc84369b96",
   "metadata": {},
   "source": [
    "#### 8. Create a graph for each of the 2 categorical variables above to visually depict how much data falls into each category using the appropriate graph. No explanation is necessary for this step. (If you have no categorical variables in your data, you can skip this step.)"
   ]
  },
  {
   "cell_type": "code",
   "execution_count": null,
   "id": "b00c9216-4e98-4983-9829-c331473f14b1",
   "metadata": {},
   "outputs": [],
   "source": [
    "# Enter your code for graph #1 here\n"
   ]
  },
  {
   "cell_type": "code",
   "execution_count": null,
   "id": "0a3236df-ad84-40eb-889d-a25159c76e76",
   "metadata": {},
   "outputs": [],
   "source": [
    "# Enter your code for graph #2 here\n"
   ]
  },
  {
   "cell_type": "markdown",
   "id": "0f8e2619-d47b-45b7-9450-bd45d7d0f3af",
   "metadata": {},
   "source": [
    "## Looking for Relationships\n",
    "\n",
    "#### 9. What relationship(s) do you think you might want to explore when building your models? (Keep in mind that you can change your mind in the future as you continue the analysis.)"
   ]
  },
  {
   "cell_type": "markdown",
   "id": "402a8b7c-7263-4994-941e-4c7bc678f53b",
   "metadata": {},
   "source": [
    "[Double-click to type your answer here]"
   ]
  },
  {
   "cell_type": "markdown",
   "id": "bc675857-2c5d-4588-9ff1-7a6174ad8103",
   "metadata": {},
   "source": [
    "#### 10. Create an appropriate graph to visually depict at least one of the relationships you discussed above. (Feel free to add additional code cells if you'd like to create more than 1 graph.)"
   ]
  },
  {
   "cell_type": "code",
   "execution_count": null,
   "id": "4dc5ee1a-015c-4cd0-bdee-47ccb6ca4385",
   "metadata": {},
   "outputs": [],
   "source": [
    "# Enter your code here\n"
   ]
  },
  {
   "cell_type": "markdown",
   "id": "fb61fdd6-8219-42ab-8379-6b27db967cfd",
   "metadata": {},
   "source": [
    "## Once you've finished, save and export your notebook as an HTML file and upload it to the Canvas assignment.\n",
    "\n",
    "## From the File menu, click \"Save and Export Notebook As\" and then select HTML. "
   ]
  }
 ],
 "metadata": {
  "kernelspec": {
   "display_name": "Python 3 (ipykernel)",
   "language": "python",
   "name": "python3"
  },
  "language_info": {
   "codemirror_mode": {
    "name": "ipython",
    "version": 3
   },
   "file_extension": ".py",
   "mimetype": "text/x-python",
   "name": "python",
   "nbconvert_exporter": "python",
   "pygments_lexer": "ipython3",
   "version": "3.10.10"
  }
 },
 "nbformat": 4,
 "nbformat_minor": 5
}
